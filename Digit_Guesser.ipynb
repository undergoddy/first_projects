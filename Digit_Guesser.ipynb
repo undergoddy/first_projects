{
 "cells": [
  {
   "cell_type": "code",
   "execution_count": 2,
   "id": "5dca7193",
   "metadata": {},
   "outputs": [
    {
     "name": "stdout",
     "output_type": "stream",
     "text": [
      "Добро пожаловать в числовую угадайку\n",
      "Введите число от 1 до 100\n",
      "50\n",
      "Ваше число меньше загаданного, попробуйте еще разок\n",
      "Введите число от 1 до 100\n",
      "75\n",
      "Ваше число меньше загаданного, попробуйте еще разок\n",
      "Введите число от 1 до 100\n",
      "85\n",
      "Вы угадали, поздравляем!\n",
      "Спасибо, что играли в числовую угадайку. Еще увидимся...\n",
      "Количество попыток угадать: 3\n"
     ]
    }
   ],
   "source": [
    "# %load Digit_guesser.py\n",
    "\n",
    "from random import *\n",
    "\n",
    "d = randint(1, 100)\n",
    "counter = 0\n",
    "print('Добро пожаловать в числовую угадайку')\n",
    "\n",
    "def is_valid(st):\n",
    "    if st.isdigit() and 1 <= int(st) <= 100:\n",
    "        return\n",
    "    else:\n",
    "        return print('А может быть все-таки введем целое число от 1 до 100?')\n",
    "\n",
    "while True:\n",
    "    print('Введите число от 1 до 100')\n",
    "    st = input()\n",
    "    is_valid(st)\n",
    "    counter += 1\n",
    "    if int(st) < d:\n",
    "        print('Ваше число меньше загаданного, попробуйте еще разок')\n",
    "    elif int(st) > d:\n",
    "        print('Ваше число больше загаданного, попробуйте еще разок')\n",
    "    elif int(st) == d:\n",
    "        print('Вы угадали, поздравляем!')\n",
    "        print('Спасибо, что играли в числовую угадайку. Еще увидимся...')\n",
    "        print('Количество попыток угадать:', counter)\n",
    "        break\n",
    "    "
   ]
  },
  {
   "cell_type": "code",
   "execution_count": null,
   "id": "731add99",
   "metadata": {},
   "outputs": [],
   "source": []
  }
 ],
 "metadata": {
  "kernelspec": {
   "display_name": "Python 3",
   "language": "python",
   "name": "python3"
  },
  "language_info": {
   "codemirror_mode": {
    "name": "ipython",
    "version": 3
   },
   "file_extension": ".py",
   "mimetype": "text/x-python",
   "name": "python",
   "nbconvert_exporter": "python",
   "pygments_lexer": "ipython3",
   "version": "3.8.8"
  }
 },
 "nbformat": 4,
 "nbformat_minor": 5
}
