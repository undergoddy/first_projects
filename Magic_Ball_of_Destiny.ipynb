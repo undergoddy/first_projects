{
 "cells": [
  {
   "cell_type": "code",
   "execution_count": 1,
   "id": "a99ea5c6",
   "metadata": {},
   "outputs": [
    {
     "name": "stdout",
     "output_type": "stream",
     "text": [
      "Привет Мир, я магический шар, и я знаю ответ на любой твой вопрос.\n",
      "Как тебя зовут?\n",
      "Богдан\n",
      "Привет, Богдан\n",
      "Задай свой вопрос!\n",
      "Возьмут ли меня на работу в ДС?\n",
      "Лучше не рассказывать\n",
      "Хочешь задать еще один вопрос? Y/N?\n",
      "n\n",
      "Возвращайся, если возникнут вопросы!\n"
     ]
    }
   ],
   "source": [
    "# %load Magic_Ball_of_Destiny.py\n",
    "\n",
    "from random import *\n",
    "\n",
    "answers = ['Бесспорно', 'Предрешено', 'Никаких сомнений', 'Определённо да', 'Можешь быть уверен в этом', 'Мне кажется - да',\\\n",
    "           'Вероятнее всего', 'Хорошие перспективы', 'Знаки говорят - да', 'Да', 'Пока неясно, попробуй снова', 'Спроси позже',\\\n",
    "           'Лучше не рассказывать', 'Сейчас нельзя предсказать', 'Сконцентрируйся и спроси опять', 'Даже не думай',\\\n",
    "           'Мой ответ - нет', 'По моим данным - нет', 'Перспективы не очень хорошие', 'Весьма сомнительно']\n",
    "\n",
    "print('Привет Мир, я магический шар, и я знаю ответ на любой твой вопрос.')\n",
    "print('Как тебя зовут?')\n",
    "print('Привет,', input())\n",
    "\n",
    "while True:\n",
    "    print('Задай свой вопрос!')\n",
    "    input()\n",
    "    print(choice(answers))\n",
    "    print('Хочешь задать еще один вопрос? Y/N?')\n",
    "    if input().lower() == 'y':\n",
    "        continue\n",
    "    else:\n",
    "        print('Возвращайся, если возникнут вопросы!')\n",
    "        break"
   ]
  },
  {
   "cell_type": "code",
   "execution_count": null,
   "id": "4cb0a525",
   "metadata": {},
   "outputs": [],
   "source": []
  }
 ],
 "metadata": {
  "kernelspec": {
   "display_name": "Python 3",
   "language": "python",
   "name": "python3"
  },
  "language_info": {
   "codemirror_mode": {
    "name": "ipython",
    "version": 3
   },
   "file_extension": ".py",
   "mimetype": "text/x-python",
   "name": "python",
   "nbconvert_exporter": "python",
   "pygments_lexer": "ipython3",
   "version": "3.8.8"
  }
 },
 "nbformat": 4,
 "nbformat_minor": 5
}
