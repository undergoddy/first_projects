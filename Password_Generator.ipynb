{
 "cells": [
  {
   "cell_type": "code",
   "execution_count": null,
   "id": "aba7db97",
   "metadata": {},
   "outputs": [],
   "source": [
    "# %load Password_Generator.py\n",
    "\n",
    "from random import *\n",
    "\n",
    "# creating featured password components\n",
    "digits = '0123456789'\n",
    "lowercase_letters = 'abcdefghijklmnopqrstuvwxyz'\n",
    "uppercase_letters = 'ABCDEFGHIJKLMNOPQRSTUVWXYZ'\n",
    "punctuation = '!#$%&*+-=?@^_'\n",
    "chars = ''"
   ]
  },
  {
   "cell_type": "code",
   "execution_count": null,
   "id": "a0574e34",
   "metadata": {},
   "outputs": [],
   "source": [
    "print('Сколько паролей необходимо сгенерировать?')\n",
    "col = int(input())\n",
    "\n",
    "print('Задайте длину пароля')\n",
    "length = int(input())\n",
    "\n",
    "print('Включать ли цифры 0123456789 ? y/n')\n",
    "if input().lower() == 'y':\n",
    "    chars += digits\n",
    "    \n",
    "print('Включать ли прописные буквы ABCDEFGHIJKLMNOPQRSTUVWXYZ ? y/n')\n",
    "if input().lower() == 'y':\n",
    "    chars += uppercase_letters\n",
    "    \n",
    "print('Включать ли строчные буквы abcdefghijklmnopqrstuvwxyz ? y/n')\n",
    "if input().lower() == 'y':\n",
    "    chars += lowercase_letters\n",
    "    \n",
    "print('Включать ли символы !#$%&*+-=?@^_ ? y/n')\n",
    "if input().lower() == 'y':\n",
    "    chars += punctuation\n",
    "    \n",
    "print('Исключать ли неоднозначные символы il1Lo0O ? y/n')\n",
    "if input().lower() == 'y':\n",
    "    for c in chars:\n",
    "        if c in 'il1Lo0O':\n",
    "            chars = chars.replace(c, '')\n",
    "\n",
    "chars2 = []\n",
    "for k in chars:\n",
    "    chars2.append(c)\n",
    "\n",
    "def generate_password(length, chars):\n",
    "    password = []\n",
    "    for i in range(length):\n",
    "        shuffle(chars2)\n",
    "        password.append(choice(chars))\n",
    "    print(*''.join(password))\n",
    "\n",
    "for i in range(col):\n",
    "    generate_password(length, chars)"
   ]
  }
 ],
 "metadata": {
  "kernelspec": {
   "display_name": "Python 3",
   "language": "python",
   "name": "python3"
  },
  "language_info": {
   "codemirror_mode": {
    "name": "ipython",
    "version": 3
   },
   "file_extension": ".py",
   "mimetype": "text/x-python",
   "name": "python",
   "nbconvert_exporter": "python",
   "pygments_lexer": "ipython3",
   "version": "3.8.8"
  }
 },
 "nbformat": 4,
 "nbformat_minor": 5
}
