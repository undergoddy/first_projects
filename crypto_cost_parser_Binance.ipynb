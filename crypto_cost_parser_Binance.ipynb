{
 "cells": [
  {
   "cell_type": "markdown",
   "id": "d4e247f8",
   "metadata": {},
   "source": [
    "Since recently I've started some experimenting with cryptocurrency. So I decided to get my own parser for crypto.\n",
    "Started from Binance, hopefully will get more sites to this."
   ]
  },
  {
   "cell_type": "code",
   "execution_count": 1,
   "id": "5624ea95",
   "metadata": {},
   "outputs": [],
   "source": [
    "import pandas as pd\n",
    "import numpy as np\n",
    "from selenium import webdriver\n",
    "from selenium.webdriver import ActionChains\n",
    "from selenium.webdriver.support.ui import WebDriverWait\n",
    "from selenium.webdriver.support import expected_conditions as EC\n",
    "from selenium.webdriver.common.by import By\n",
    "from selenium.common.exceptions import NoSuchElementException\n",
    "from selenium.webdriver.common.keys import Keys"
   ]
  },
  {
   "cell_type": "markdown",
   "id": "c9a3b290",
   "metadata": {},
   "source": [
    "Don't blame me if I'm wrong in some things, this is my first experience with websites and selenium library.\n",
    "If you have some improvement ideas, welcome, I'l be really greatful!"
   ]
  },
  {
   "cell_type": "markdown",
   "id": "f2311fa8",
   "metadata": {},
   "source": [
    "Before coming to selenium library, I've studied BeautifulSoap. Last one appeared to be not effective since Binance has dinamic nature."
   ]
  },
  {
   "cell_type": "code",
   "execution_count": 2,
   "id": "fa23b2cf",
   "metadata": {},
   "outputs": [],
   "source": [
    "url = 'https://www.binance.com/ru/markets'"
   ]
  },
  {
   "cell_type": "code",
   "execution_count": 3,
   "id": "e3333af0",
   "metadata": {},
   "outputs": [],
   "source": [
    "driver = webdriver.Chrome('C:/Users/under/Desktop/chromedriver.exe')\n",
    "driver.get(url)"
   ]
  },
  {
   "cell_type": "markdown",
   "id": "e1ea6319",
   "metadata": {},
   "source": [
    "After starting browser next cell will click on 'Zones' button in order to get us to cryptos and its cost list"
   ]
  },
  {
   "cell_type": "code",
   "execution_count": 4,
   "id": "d1525d3a",
   "metadata": {},
   "outputs": [],
   "source": [
    "zones_button = driver.find_element_by_xpath('//*[@id=\"__APP\"]/div[1]/main/div/div[2]/div/div[2]/div[1]/div/div/div/div[2]/div')\n",
    "ActionChains(driver).click(zones_button).perform()"
   ]
  },
  {
   "cell_type": "markdown",
   "id": "12f33361",
   "metadata": {},
   "source": [
    "Next cells own some explanation. Main values - crypto name and crypto cost - lie in next 2 paths.\n",
    "The problem is that after scrolling down on the page, scrolled up and lying downside values(which are not visible to user) are dissapearing from DOM structure.\n",
    "Meaning that user can see up to 16 values and only them will exist in DOM.\n",
    "After scrolling, new ones will replace previous and will never reach more than 16 count(in this place in Xpath - \"/div[]/\")\n",
    "So script goes through all visible and existing in DOM values, writes all of them in crypto_list_2, and scrolling down to get new ones."
   ]
  },
  {
   "cell_type": "code",
   "execution_count": 5,
   "id": "dee08d68",
   "metadata": {},
   "outputs": [],
   "source": [
    "path_1 = '//*[@id=\"__APP\"]/div[1]/main/div/div[2]/div/div[2]/div[2]/div[2]/div/div[2]/div/div/div[]/div/div[3]/div'\n",
    "path_0 = '//*[@id=\"__APP\"]/div[1]/main/div/div[2]/div/div[2]/div[2]/div[2]/div/div[2]/div/div/div[]/div/div[2]/div[2]/div[1]'"
   ]
  },
  {
   "cell_type": "code",
   "execution_count": 6,
   "id": "09e3d51a",
   "metadata": {},
   "outputs": [],
   "source": [
    "import time "
   ]
  },
  {
   "cell_type": "code",
   "execution_count": 7,
   "id": "63d4e093",
   "metadata": {},
   "outputs": [],
   "source": [
    "crypto_list = []"
   ]
  },
  {
   "cell_type": "code",
   "execution_count": 8,
   "id": "3ddafb5a",
   "metadata": {},
   "outputs": [
    {
     "name": "stdout",
     "output_type": "stream",
     "text": [
      "Iteration count: 1\n",
      "--- 4.348567962646484 seconds ---\n",
      "Iteration count: 2\n",
      "--- 9.82928204536438 seconds ---\n",
      "Iteration count: 3\n",
      "--- 15.231282949447632 seconds ---\n",
      "Iteration count: 4\n",
      "--- 20.477298736572266 seconds ---\n",
      "Iteration count: 5\n",
      "--- 25.969638347625732 seconds ---\n",
      "Iteration count: 6\n",
      "--- 31.842546463012695 seconds ---\n",
      "Iteration count: 7\n",
      "--- 37.2566614151001 seconds ---\n",
      "Iteration count: 8\n",
      "--- 42.98860239982605 seconds ---\n",
      "Iteration count: 9\n",
      "--- 48.44950819015503 seconds ---\n",
      "Iteration count: 10\n",
      "--- 53.96735644340515 seconds ---\n",
      "Iteration count: 11\n",
      "--- 59.473928928375244 seconds ---\n",
      "Iteration count: 12\n",
      "--- 65.40515732765198 seconds ---\n",
      "Iteration count: 13\n",
      "--- 70.84210991859436 seconds ---\n",
      "Iteration count: 14\n",
      "--- 76.29302763938904 seconds ---\n",
      "Iteration count: 15\n",
      "--- 81.56091117858887 seconds ---\n",
      "Iteration count: 16\n",
      "--- 87.20927238464355 seconds ---\n",
      "Iteration count: 17\n",
      "--- 92.67594146728516 seconds ---\n",
      "Iteration count: 18\n",
      "--- 98.10774970054626 seconds ---\n",
      "Iteration count: 19\n",
      "--- 103.31640601158142 seconds ---\n",
      "Iteration count: 20\n",
      "--- 108.85468792915344 seconds ---\n",
      "Iteration count: 21\n",
      "--- 114.09377837181091 seconds ---\n",
      "Iteration count: 22\n",
      "--- 119.56771445274353 seconds ---\n",
      "Iteration count: 23\n",
      "--- 125.08306431770325 seconds ---\n",
      "Iteration count: 24\n",
      "--- 130.91176676750183 seconds ---\n",
      "Iteration count: 25\n",
      "--- 136.50845789909363 seconds ---\n",
      "Iteration count: 26\n",
      "--- 142.19217157363892 seconds ---\n",
      "Iteration count: 27\n",
      "--- 147.554349899292 seconds ---\n",
      "Iteration count: 28\n",
      "--- 153.06065273284912 seconds ---\n",
      "Iteration count: 29\n",
      "--- 158.49458575248718 seconds ---\n",
      "Iteration count: 30\n",
      "--- 164.3657591342926 seconds ---\n",
      "Iteration count: 31\n",
      "--- 169.62611269950867 seconds ---\n",
      "Iteration count: 32\n",
      "--- 175.0962677001953 seconds ---\n",
      "Iteration count: 33\n",
      "--- 180.8767123222351 seconds ---\n",
      "Iteration count: 34\n",
      "--- 186.31471872329712 seconds ---\n",
      "Iteration count: 35\n",
      "--- 191.85404896736145 seconds ---\n",
      "Iteration count: 36\n",
      "--- 197.61357879638672 seconds ---\n",
      "Iteration count: 37\n",
      "--- 203.06350207328796 seconds ---\n",
      "Iteration count: 38\n",
      "--- 208.67816758155823 seconds ---\n",
      "Iteration count: 39\n",
      "--- 214.0689332485199 seconds ---\n",
      "Iteration count: 40\n",
      "--- 219.64593720436096 seconds ---\n",
      "Iteration count: 41\n",
      "--- 225.0330789089203 seconds ---\n",
      "Iteration count: 42\n",
      "--- 230.63750410079956 seconds ---\n",
      "Iteration count: 43\n",
      "--- 236.0062756538391 seconds ---\n",
      "Iteration count: 44\n",
      "--- 241.76477336883545 seconds ---\n",
      "Iteration count: 45\n",
      "--- 247.60598635673523 seconds ---\n",
      "Iteration count: 46\n",
      "--- 253.13823461532593 seconds ---\n",
      "Iteration count: 47\n",
      "--- 258.81013655662537 seconds ---\n",
      "Iteration count: 48\n",
      "--- 264.08800864219666 seconds ---\n",
      "Iteration count: 49\n"
     ]
    },
    {
     "ename": "NoSuchElementException",
     "evalue": "Message: no such element: Unable to locate element: {\"method\":\"xpath\",\"selector\":\"//*[@id=\"__APP\"]/div[1]/main/div/div[2]/div/div[2]/div[2]/div[2]/div/div[2]/div/div/div[11]/div/div[2]/div[2]/div[1]\"}\n  (Session info: chrome=91.0.4472.124)\n",
     "output_type": "error",
     "traceback": [
      "\u001b[1;31m---------------------------------------------------------------------------\u001b[0m",
      "\u001b[1;31mNoSuchElementException\u001b[0m                    Traceback (most recent call last)",
      "\u001b[1;32m<timed exec>\u001b[0m in \u001b[0;36m<module>\u001b[1;34m\u001b[0m\n",
      "\u001b[1;32m~\\anaconda3\\lib\\site-packages\\selenium\\webdriver\\remote\\webelement.py\u001b[0m in \u001b[0;36mfind_element_by_xpath\u001b[1;34m(self, xpath)\u001b[0m\n\u001b[0;32m    349\u001b[0m             \u001b[0melement\u001b[0m \u001b[1;33m=\u001b[0m \u001b[0melement\u001b[0m\u001b[1;33m.\u001b[0m\u001b[0mfind_element_by_xpath\u001b[0m\u001b[1;33m(\u001b[0m\u001b[1;34m'//div/td[1]'\u001b[0m\u001b[1;33m)\u001b[0m\u001b[1;33m\u001b[0m\u001b[1;33m\u001b[0m\u001b[0m\n\u001b[0;32m    350\u001b[0m         \"\"\"\n\u001b[1;32m--> 351\u001b[1;33m         \u001b[1;32mreturn\u001b[0m \u001b[0mself\u001b[0m\u001b[1;33m.\u001b[0m\u001b[0mfind_element\u001b[0m\u001b[1;33m(\u001b[0m\u001b[0mby\u001b[0m\u001b[1;33m=\u001b[0m\u001b[0mBy\u001b[0m\u001b[1;33m.\u001b[0m\u001b[0mXPATH\u001b[0m\u001b[1;33m,\u001b[0m \u001b[0mvalue\u001b[0m\u001b[1;33m=\u001b[0m\u001b[0mxpath\u001b[0m\u001b[1;33m)\u001b[0m\u001b[1;33m\u001b[0m\u001b[1;33m\u001b[0m\u001b[0m\n\u001b[0m\u001b[0;32m    352\u001b[0m \u001b[1;33m\u001b[0m\u001b[0m\n\u001b[0;32m    353\u001b[0m     \u001b[1;32mdef\u001b[0m \u001b[0mfind_elements_by_xpath\u001b[0m\u001b[1;33m(\u001b[0m\u001b[0mself\u001b[0m\u001b[1;33m,\u001b[0m \u001b[0mxpath\u001b[0m\u001b[1;33m)\u001b[0m\u001b[1;33m:\u001b[0m\u001b[1;33m\u001b[0m\u001b[1;33m\u001b[0m\u001b[0m\n",
      "\u001b[1;32m~\\anaconda3\\lib\\site-packages\\selenium\\webdriver\\remote\\webelement.py\u001b[0m in \u001b[0;36mfind_element\u001b[1;34m(self, by, value)\u001b[0m\n\u001b[0;32m    656\u001b[0m                 \u001b[0mvalue\u001b[0m \u001b[1;33m=\u001b[0m \u001b[1;34m'[name=\"%s\"]'\u001b[0m \u001b[1;33m%\u001b[0m \u001b[0mvalue\u001b[0m\u001b[1;33m\u001b[0m\u001b[1;33m\u001b[0m\u001b[0m\n\u001b[0;32m    657\u001b[0m \u001b[1;33m\u001b[0m\u001b[0m\n\u001b[1;32m--> 658\u001b[1;33m         return self._execute(Command.FIND_CHILD_ELEMENT,\n\u001b[0m\u001b[0;32m    659\u001b[0m                              {\"using\": by, \"value\": value})['value']\n\u001b[0;32m    660\u001b[0m \u001b[1;33m\u001b[0m\u001b[0m\n",
      "\u001b[1;32m~\\anaconda3\\lib\\site-packages\\selenium\\webdriver\\remote\\webelement.py\u001b[0m in \u001b[0;36m_execute\u001b[1;34m(self, command, params)\u001b[0m\n\u001b[0;32m    631\u001b[0m             \u001b[0mparams\u001b[0m \u001b[1;33m=\u001b[0m \u001b[1;33m{\u001b[0m\u001b[1;33m}\u001b[0m\u001b[1;33m\u001b[0m\u001b[1;33m\u001b[0m\u001b[0m\n\u001b[0;32m    632\u001b[0m         \u001b[0mparams\u001b[0m\u001b[1;33m[\u001b[0m\u001b[1;34m'id'\u001b[0m\u001b[1;33m]\u001b[0m \u001b[1;33m=\u001b[0m \u001b[0mself\u001b[0m\u001b[1;33m.\u001b[0m\u001b[0m_id\u001b[0m\u001b[1;33m\u001b[0m\u001b[1;33m\u001b[0m\u001b[0m\n\u001b[1;32m--> 633\u001b[1;33m         \u001b[1;32mreturn\u001b[0m \u001b[0mself\u001b[0m\u001b[1;33m.\u001b[0m\u001b[0m_parent\u001b[0m\u001b[1;33m.\u001b[0m\u001b[0mexecute\u001b[0m\u001b[1;33m(\u001b[0m\u001b[0mcommand\u001b[0m\u001b[1;33m,\u001b[0m \u001b[0mparams\u001b[0m\u001b[1;33m)\u001b[0m\u001b[1;33m\u001b[0m\u001b[1;33m\u001b[0m\u001b[0m\n\u001b[0m\u001b[0;32m    634\u001b[0m \u001b[1;33m\u001b[0m\u001b[0m\n\u001b[0;32m    635\u001b[0m     \u001b[1;32mdef\u001b[0m \u001b[0mfind_element\u001b[0m\u001b[1;33m(\u001b[0m\u001b[0mself\u001b[0m\u001b[1;33m,\u001b[0m \u001b[0mby\u001b[0m\u001b[1;33m=\u001b[0m\u001b[0mBy\u001b[0m\u001b[1;33m.\u001b[0m\u001b[0mID\u001b[0m\u001b[1;33m,\u001b[0m \u001b[0mvalue\u001b[0m\u001b[1;33m=\u001b[0m\u001b[1;32mNone\u001b[0m\u001b[1;33m)\u001b[0m\u001b[1;33m:\u001b[0m\u001b[1;33m\u001b[0m\u001b[1;33m\u001b[0m\u001b[0m\n",
      "\u001b[1;32m~\\anaconda3\\lib\\site-packages\\selenium\\webdriver\\remote\\webdriver.py\u001b[0m in \u001b[0;36mexecute\u001b[1;34m(self, driver_command, params)\u001b[0m\n\u001b[0;32m    319\u001b[0m         \u001b[0mresponse\u001b[0m \u001b[1;33m=\u001b[0m \u001b[0mself\u001b[0m\u001b[1;33m.\u001b[0m\u001b[0mcommand_executor\u001b[0m\u001b[1;33m.\u001b[0m\u001b[0mexecute\u001b[0m\u001b[1;33m(\u001b[0m\u001b[0mdriver_command\u001b[0m\u001b[1;33m,\u001b[0m \u001b[0mparams\u001b[0m\u001b[1;33m)\u001b[0m\u001b[1;33m\u001b[0m\u001b[1;33m\u001b[0m\u001b[0m\n\u001b[0;32m    320\u001b[0m         \u001b[1;32mif\u001b[0m \u001b[0mresponse\u001b[0m\u001b[1;33m:\u001b[0m\u001b[1;33m\u001b[0m\u001b[1;33m\u001b[0m\u001b[0m\n\u001b[1;32m--> 321\u001b[1;33m             \u001b[0mself\u001b[0m\u001b[1;33m.\u001b[0m\u001b[0merror_handler\u001b[0m\u001b[1;33m.\u001b[0m\u001b[0mcheck_response\u001b[0m\u001b[1;33m(\u001b[0m\u001b[0mresponse\u001b[0m\u001b[1;33m)\u001b[0m\u001b[1;33m\u001b[0m\u001b[1;33m\u001b[0m\u001b[0m\n\u001b[0m\u001b[0;32m    322\u001b[0m             response['value'] = self._unwrap_value(\n\u001b[0;32m    323\u001b[0m                 response.get('value', None))\n",
      "\u001b[1;32m~\\anaconda3\\lib\\site-packages\\selenium\\webdriver\\remote\\errorhandler.py\u001b[0m in \u001b[0;36mcheck_response\u001b[1;34m(self, response)\u001b[0m\n\u001b[0;32m    240\u001b[0m                 \u001b[0malert_text\u001b[0m \u001b[1;33m=\u001b[0m \u001b[0mvalue\u001b[0m\u001b[1;33m[\u001b[0m\u001b[1;34m'alert'\u001b[0m\u001b[1;33m]\u001b[0m\u001b[1;33m.\u001b[0m\u001b[0mget\u001b[0m\u001b[1;33m(\u001b[0m\u001b[1;34m'text'\u001b[0m\u001b[1;33m)\u001b[0m\u001b[1;33m\u001b[0m\u001b[1;33m\u001b[0m\u001b[0m\n\u001b[0;32m    241\u001b[0m             \u001b[1;32mraise\u001b[0m \u001b[0mexception_class\u001b[0m\u001b[1;33m(\u001b[0m\u001b[0mmessage\u001b[0m\u001b[1;33m,\u001b[0m \u001b[0mscreen\u001b[0m\u001b[1;33m,\u001b[0m \u001b[0mstacktrace\u001b[0m\u001b[1;33m,\u001b[0m \u001b[0malert_text\u001b[0m\u001b[1;33m)\u001b[0m\u001b[1;33m\u001b[0m\u001b[1;33m\u001b[0m\u001b[0m\n\u001b[1;32m--> 242\u001b[1;33m         \u001b[1;32mraise\u001b[0m \u001b[0mexception_class\u001b[0m\u001b[1;33m(\u001b[0m\u001b[0mmessage\u001b[0m\u001b[1;33m,\u001b[0m \u001b[0mscreen\u001b[0m\u001b[1;33m,\u001b[0m \u001b[0mstacktrace\u001b[0m\u001b[1;33m)\u001b[0m\u001b[1;33m\u001b[0m\u001b[1;33m\u001b[0m\u001b[0m\n\u001b[0m\u001b[0;32m    243\u001b[0m \u001b[1;33m\u001b[0m\u001b[0m\n\u001b[0;32m    244\u001b[0m     \u001b[1;32mdef\u001b[0m \u001b[0m_value_or_default\u001b[0m\u001b[1;33m(\u001b[0m\u001b[0mself\u001b[0m\u001b[1;33m,\u001b[0m \u001b[0mobj\u001b[0m\u001b[1;33m,\u001b[0m \u001b[0mkey\u001b[0m\u001b[1;33m,\u001b[0m \u001b[0mdefault\u001b[0m\u001b[1;33m)\u001b[0m\u001b[1;33m:\u001b[0m\u001b[1;33m\u001b[0m\u001b[1;33m\u001b[0m\u001b[0m\n",
      "\u001b[1;31mNoSuchElementException\u001b[0m: Message: no such element: Unable to locate element: {\"method\":\"xpath\",\"selector\":\"//*[@id=\"__APP\"]/div[1]/main/div/div[2]/div/div[2]/div[2]/div[2]/div/div[2]/div/div/div[11]/div/div[2]/div[2]/div[1]\"}\n  (Session info: chrome=91.0.4472.124)\n"
     ]
    }
   ],
   "source": [
    "%%time\n",
    "\n",
    "elm = driver.find_element_by_tag_name(\"html\")\n",
    "\n",
    "start_time = time.time()\n",
    "\n",
    "for i in range(1, 100):\n",
    "    print('Iteration count:', i)\n",
    "    cryptos = driver.find_elements_by_class_name('css-4cffwv')\n",
    "    for k in range(1, 16):\n",
    "        title_path = path_0[:88] + str(k) + path_0[88:]\n",
    "        price_path = path_1[:88] + str(k) + path_1[88:]\n",
    "        for crypto in cryptos:\n",
    "            title = crypto.find_element_by_xpath(title_path).text\n",
    "            price = crypto.find_element_by_xpath(price_path).text\n",
    "            \n",
    "            crypto_list_dict = {'crypto':title,\n",
    "                                'price':price}\n",
    "            crypto_list.append(crypto_list_dict)\n",
    "            \n",
    "            break\n",
    "    for j in range(3):  \n",
    "        elm.send_keys(Keys.DOWN)\n",
    "        elm.send_keys(Keys.DOWN)\n",
    "        elm.send_keys(Keys.DOWN)\n",
    "        elm.send_keys(Keys.DOWN)\n",
    "        time.sleep(1)\n",
    "    print(\"--- %s seconds ---\" % (time.time() - start_time))"
   ]
  },
  {
   "cell_type": "markdown",
   "id": "ee579a90",
   "metadata": {},
   "source": [
    "Script is ending with error but it has done its work and we've got data we need. I'll try to fix this in future edits."
   ]
  },
  {
   "cell_type": "code",
   "execution_count": 9,
   "id": "b45a8d95",
   "metadata": {},
   "outputs": [],
   "source": [
    "crypto_list = pd.DataFrame(crypto_list)"
   ]
  },
  {
   "cell_type": "code",
   "execution_count": 10,
   "id": "d2f494be",
   "metadata": {},
   "outputs": [],
   "source": [
    "crypto_list = crypto_list.drop_duplicates(subset='crypto', keep='first', inplace=False)"
   ]
  },
  {
   "cell_type": "code",
   "execution_count": 11,
   "id": "4b6590c0",
   "metadata": {},
   "outputs": [
    {
     "data": {
      "text/html": [
       "<div>\n",
       "<style scoped>\n",
       "    .dataframe tbody tr th:only-of-type {\n",
       "        vertical-align: middle;\n",
       "    }\n",
       "\n",
       "    .dataframe tbody tr th {\n",
       "        vertical-align: top;\n",
       "    }\n",
       "\n",
       "    .dataframe thead th {\n",
       "        text-align: right;\n",
       "    }\n",
       "</style>\n",
       "<table border=\"1\" class=\"dataframe\">\n",
       "  <thead>\n",
       "    <tr style=\"text-align: right;\">\n",
       "      <th></th>\n",
       "      <th>crypto</th>\n",
       "      <th>price</th>\n",
       "    </tr>\n",
       "  </thead>\n",
       "  <tbody>\n",
       "    <tr>\n",
       "      <th>0</th>\n",
       "      <td>BTC</td>\n",
       "      <td>₽2,450,745.58</td>\n",
       "    </tr>\n",
       "    <tr>\n",
       "      <th>1</th>\n",
       "      <td>ETH</td>\n",
       "      <td>₽156,515.19</td>\n",
       "    </tr>\n",
       "    <tr>\n",
       "      <th>2</th>\n",
       "      <td>USDT</td>\n",
       "      <td>₽74.32</td>\n",
       "    </tr>\n",
       "    <tr>\n",
       "      <th>3</th>\n",
       "      <td>BNB</td>\n",
       "      <td>₽23,036.35</td>\n",
       "    </tr>\n",
       "    <tr>\n",
       "      <th>4</th>\n",
       "      <td>ADA</td>\n",
       "      <td>₽99.00</td>\n",
       "    </tr>\n",
       "    <tr>\n",
       "      <th>...</th>\n",
       "      <td>...</td>\n",
       "      <td>...</td>\n",
       "    </tr>\n",
       "    <tr>\n",
       "      <th>717</th>\n",
       "      <td>XTZDOWN</td>\n",
       "      <td>₽0.150147</td>\n",
       "    </tr>\n",
       "    <tr>\n",
       "      <th>718</th>\n",
       "      <td>XTZUP</td>\n",
       "      <td>₽2.60</td>\n",
       "    </tr>\n",
       "    <tr>\n",
       "      <th>719</th>\n",
       "      <td>YFIDOWN</td>\n",
       "      <td>₽196.47</td>\n",
       "    </tr>\n",
       "    <tr>\n",
       "      <th>728</th>\n",
       "      <td>YFIUP</td>\n",
       "      <td>₽31.37</td>\n",
       "    </tr>\n",
       "    <tr>\n",
       "      <th>729</th>\n",
       "      <td>YOYO</td>\n",
       "      <td>₽0.808792</td>\n",
       "    </tr>\n",
       "  </tbody>\n",
       "</table>\n",
       "<p>358 rows × 2 columns</p>\n",
       "</div>"
      ],
      "text/plain": [
       "      crypto          price\n",
       "0        BTC  ₽2,450,745.58\n",
       "1        ETH    ₽156,515.19\n",
       "2       USDT         ₽74.32\n",
       "3        BNB     ₽23,036.35\n",
       "4        ADA         ₽99.00\n",
       "..       ...            ...\n",
       "717  XTZDOWN      ₽0.150147\n",
       "718    XTZUP          ₽2.60\n",
       "719  YFIDOWN        ₽196.47\n",
       "728    YFIUP         ₽31.37\n",
       "729     YOYO      ₽0.808792\n",
       "\n",
       "[358 rows x 2 columns]"
      ]
     },
     "execution_count": 11,
     "metadata": {},
     "output_type": "execute_result"
    }
   ],
   "source": [
    "crypto_list"
   ]
  },
  {
   "cell_type": "markdown",
   "id": "6b4c8907",
   "metadata": {},
   "source": [
    "Original crypto_list_2 before dropping duplicates has 720 rows, which is nearly twice. I think it's inevitable to have duplicates but they surely can be lowered.\n",
    "Duplicates exist because in this script we need slow scrolling to give a chance for cells on website to appear on screen and in DOM. "
   ]
  },
  {
   "cell_type": "markdown",
   "id": "02e7bd8a",
   "metadata": {},
   "source": [
    "-----------------------------------------------------------------------------------------------------------------------------"
   ]
  },
  {
   "cell_type": "code",
   "execution_count": 12,
   "id": "ac1d4b57",
   "metadata": {},
   "outputs": [],
   "source": [
    "crypto_previous_day = pd.read_excel('C:/Users/under/Desktop/crypto_excels/crypto.xlsx')"
   ]
  },
  {
   "cell_type": "code",
   "execution_count": 13,
   "id": "2336d7c3",
   "metadata": {},
   "outputs": [],
   "source": [
    "crypto_previous_day = crypto_previous_day.merge(crypto_list, how='inner', on='crypto')"
   ]
  },
  {
   "cell_type": "code",
   "execution_count": 14,
   "id": "c1257e6c",
   "metadata": {},
   "outputs": [
    {
     "data": {
      "text/html": [
       "<div>\n",
       "<style scoped>\n",
       "    .dataframe tbody tr th:only-of-type {\n",
       "        vertical-align: middle;\n",
       "    }\n",
       "\n",
       "    .dataframe tbody tr th {\n",
       "        vertical-align: top;\n",
       "    }\n",
       "\n",
       "    .dataframe thead th {\n",
       "        text-align: right;\n",
       "    }\n",
       "</style>\n",
       "<table border=\"1\" class=\"dataframe\">\n",
       "  <thead>\n",
       "    <tr style=\"text-align: right;\">\n",
       "      <th></th>\n",
       "      <th>Unnamed: 0</th>\n",
       "      <th>Unnamed: 0.1</th>\n",
       "      <th>crypto</th>\n",
       "      <th>price_07/07/2021</th>\n",
       "      <th>price_08/07/2021</th>\n",
       "      <th>dinamic_08/07/2021</th>\n",
       "      <th>%_percentage_08/07/2021</th>\n",
       "      <th>price</th>\n",
       "    </tr>\n",
       "  </thead>\n",
       "  <tbody>\n",
       "    <tr>\n",
       "      <th>0</th>\n",
       "      <td>0</td>\n",
       "      <td>0</td>\n",
       "      <td>BTC</td>\n",
       "      <td>2.588463e+06</td>\n",
       "      <td>2.458279e+06</td>\n",
       "      <td>-130183.900000</td>\n",
       "      <td>-5.029390</td>\n",
       "      <td>₽2,450,745.58</td>\n",
       "    </tr>\n",
       "    <tr>\n",
       "      <th>1</th>\n",
       "      <td>1</td>\n",
       "      <td>1</td>\n",
       "      <td>ETH</td>\n",
       "      <td>1.771903e+05</td>\n",
       "      <td>1.618009e+05</td>\n",
       "      <td>-15389.400000</td>\n",
       "      <td>-8.685239</td>\n",
       "      <td>₽156,515.19</td>\n",
       "    </tr>\n",
       "    <tr>\n",
       "      <th>2</th>\n",
       "      <td>2</td>\n",
       "      <td>2</td>\n",
       "      <td>USDT</td>\n",
       "      <td>7.445000e+01</td>\n",
       "      <td>7.502000e+01</td>\n",
       "      <td>0.570000</td>\n",
       "      <td>0.765615</td>\n",
       "      <td>₽74.32</td>\n",
       "    </tr>\n",
       "    <tr>\n",
       "      <th>3</th>\n",
       "      <td>3</td>\n",
       "      <td>3</td>\n",
       "      <td>BNB</td>\n",
       "      <td>2.516627e+04</td>\n",
       "      <td>2.354353e+04</td>\n",
       "      <td>-1622.740000</td>\n",
       "      <td>-6.448075</td>\n",
       "      <td>₽23,036.35</td>\n",
       "    </tr>\n",
       "    <tr>\n",
       "      <th>4</th>\n",
       "      <td>4</td>\n",
       "      <td>4</td>\n",
       "      <td>ADA</td>\n",
       "      <td>1.065400e+02</td>\n",
       "      <td>1.022300e+02</td>\n",
       "      <td>-4.310000</td>\n",
       "      <td>-4.045429</td>\n",
       "      <td>₽99.00</td>\n",
       "    </tr>\n",
       "    <tr>\n",
       "      <th>...</th>\n",
       "      <td>...</td>\n",
       "      <td>...</td>\n",
       "      <td>...</td>\n",
       "      <td>...</td>\n",
       "      <td>...</td>\n",
       "      <td>...</td>\n",
       "      <td>...</td>\n",
       "      <td>...</td>\n",
       "    </tr>\n",
       "    <tr>\n",
       "      <th>353</th>\n",
       "      <td>353</td>\n",
       "      <td>353</td>\n",
       "      <td>XTZDOWN</td>\n",
       "      <td>1.228100e-01</td>\n",
       "      <td>1.492900e-01</td>\n",
       "      <td>0.026480</td>\n",
       "      <td>21.561762</td>\n",
       "      <td>₽0.150147</td>\n",
       "    </tr>\n",
       "    <tr>\n",
       "      <th>354</th>\n",
       "      <td>354</td>\n",
       "      <td>354</td>\n",
       "      <td>XTZUP</td>\n",
       "      <td>3.350000e+00</td>\n",
       "      <td>2.630000e+00</td>\n",
       "      <td>-0.720000</td>\n",
       "      <td>-21.492537</td>\n",
       "      <td>₽2.60</td>\n",
       "    </tr>\n",
       "    <tr>\n",
       "      <th>355</th>\n",
       "      <td>355</td>\n",
       "      <td>355</td>\n",
       "      <td>YFIDOWN</td>\n",
       "      <td>1.471300e+02</td>\n",
       "      <td>1.883200e+02</td>\n",
       "      <td>41.190000</td>\n",
       "      <td>27.995650</td>\n",
       "      <td>₽196.47</td>\n",
       "    </tr>\n",
       "    <tr>\n",
       "      <th>356</th>\n",
       "      <td>356</td>\n",
       "      <td>356</td>\n",
       "      <td>YFIUP</td>\n",
       "      <td>4.518000e+01</td>\n",
       "      <td>3.346000e+01</td>\n",
       "      <td>-11.720000</td>\n",
       "      <td>-25.940682</td>\n",
       "      <td>₽31.37</td>\n",
       "    </tr>\n",
       "    <tr>\n",
       "      <th>357</th>\n",
       "      <td>357</td>\n",
       "      <td>357</td>\n",
       "      <td>YOYO</td>\n",
       "      <td>8.801130e-01</td>\n",
       "      <td>8.108200e-01</td>\n",
       "      <td>-0.069293</td>\n",
       "      <td>-7.873194</td>\n",
       "      <td>₽0.808792</td>\n",
       "    </tr>\n",
       "  </tbody>\n",
       "</table>\n",
       "<p>358 rows × 8 columns</p>\n",
       "</div>"
      ],
      "text/plain": [
       "     Unnamed: 0  Unnamed: 0.1   crypto  price_07/07/2021  price_08/07/2021  \\\n",
       "0             0             0      BTC      2.588463e+06      2.458279e+06   \n",
       "1             1             1      ETH      1.771903e+05      1.618009e+05   \n",
       "2             2             2     USDT      7.445000e+01      7.502000e+01   \n",
       "3             3             3      BNB      2.516627e+04      2.354353e+04   \n",
       "4             4             4      ADA      1.065400e+02      1.022300e+02   \n",
       "..          ...           ...      ...               ...               ...   \n",
       "353         353           353  XTZDOWN      1.228100e-01      1.492900e-01   \n",
       "354         354           354    XTZUP      3.350000e+00      2.630000e+00   \n",
       "355         355           355  YFIDOWN      1.471300e+02      1.883200e+02   \n",
       "356         356           356    YFIUP      4.518000e+01      3.346000e+01   \n",
       "357         357           357     YOYO      8.801130e-01      8.108200e-01   \n",
       "\n",
       "     dinamic_08/07/2021  %_percentage_08/07/2021          price  \n",
       "0        -130183.900000                -5.029390  ₽2,450,745.58  \n",
       "1         -15389.400000                -8.685239    ₽156,515.19  \n",
       "2              0.570000                 0.765615         ₽74.32  \n",
       "3          -1622.740000                -6.448075     ₽23,036.35  \n",
       "4             -4.310000                -4.045429         ₽99.00  \n",
       "..                  ...                      ...            ...  \n",
       "353            0.026480                21.561762      ₽0.150147  \n",
       "354           -0.720000               -21.492537          ₽2.60  \n",
       "355           41.190000                27.995650        ₽196.47  \n",
       "356          -11.720000               -25.940682         ₽31.37  \n",
       "357           -0.069293                -7.873194      ₽0.808792  \n",
       "\n",
       "[358 rows x 8 columns]"
      ]
     },
     "execution_count": 14,
     "metadata": {},
     "output_type": "execute_result"
    }
   ],
   "source": [
    "crypto_previous_day"
   ]
  },
  {
   "cell_type": "code",
   "execution_count": 15,
   "id": "1e3305e6",
   "metadata": {},
   "outputs": [],
   "source": [
    "import datetime as dt\n",
    "from datetime import timedelta"
   ]
  },
  {
   "cell_type": "code",
   "execution_count": 16,
   "id": "44914d30",
   "metadata": {},
   "outputs": [
    {
     "data": {
      "text/plain": [
       "'dinamic_09/07/2021'"
      ]
     },
     "execution_count": 16,
     "metadata": {},
     "output_type": "execute_result"
    }
   ],
   "source": [
    "today_date = 'dinamic', dt.datetime.today().strftime(\"%d/%m/%Y\")\n",
    "today_date = ''.join(today_date)\n",
    "today_date = today_date[:7] + '_' + today_date[7:]\n",
    "today_date"
   ]
  },
  {
   "cell_type": "code",
   "execution_count": 17,
   "id": "73233df7",
   "metadata": {},
   "outputs": [
    {
     "data": {
      "text/plain": [
       "'%_percentage_09/07/2021'"
      ]
     },
     "execution_count": 17,
     "metadata": {},
     "output_type": "execute_result"
    }
   ],
   "source": [
    "today_date_percentage = '%_percentage', dt.datetime.today().strftime(\"%d/%m/%Y\")\n",
    "today_date_percentage = ''.join(today_date_percentage)\n",
    "today_date_percentage = today_date_percentage[:12] + '_' + today_date_percentage[12:]\n",
    "today_date_percentage"
   ]
  },
  {
   "cell_type": "code",
   "execution_count": 18,
   "id": "b2c284d3",
   "metadata": {},
   "outputs": [
    {
     "data": {
      "text/plain": [
       "'price_08/07/2021'"
      ]
     },
     "execution_count": 18,
     "metadata": {},
     "output_type": "execute_result"
    }
   ],
   "source": [
    "yesterday = dt.datetime.today() - timedelta(1)\n",
    "yesterday_date_price_x = 'price', yesterday.strftime(\"%d/%m/%Y\")\n",
    "yesterday_date_price_x = ''.join(yesterday_date_price_x)\n",
    "yesterday_date_price_x = yesterday_date_price_x[:5] + '_' + yesterday_date_price_x[5:]\n",
    "yesterday_date_price_x"
   ]
  },
  {
   "cell_type": "code",
   "execution_count": 19,
   "id": "7197b881",
   "metadata": {},
   "outputs": [
    {
     "data": {
      "text/plain": [
       "'price_09/07/2021'"
      ]
     },
     "execution_count": 19,
     "metadata": {},
     "output_type": "execute_result"
    }
   ],
   "source": [
    "today_date_price_y = 'price', dt.datetime.today().strftime(\"%d/%m/%Y\")\n",
    "today_date_price_y = ''.join(today_date_price_y)\n",
    "today_date_price_y = today_date_price_y[:5] + '_' + today_date_price_y[5:]\n",
    "today_date_price_y"
   ]
  },
  {
   "cell_type": "code",
   "execution_count": 22,
   "id": "16f9d210",
   "metadata": {},
   "outputs": [],
   "source": [
    "crypto_previous_day.price = crypto_previous_day.price.replace('₽', '', regex=True).replace(',', '', regex=True).astype('float')"
   ]
  },
  {
   "cell_type": "code",
   "execution_count": 33,
   "id": "7121c372",
   "metadata": {},
   "outputs": [],
   "source": [
    "d2 = {str(yesterday_date_price_x):'price_x', 'price':'price_y'}\n",
    "crypto_previous_day.rename(columns=d2, inplace=True)"
   ]
  },
  {
   "cell_type": "code",
   "execution_count": 37,
   "id": "87da910c",
   "metadata": {},
   "outputs": [],
   "source": [
    "crypto_previous_day['today_date_crypto'] = (crypto_previous_day.price_y - crypto_previous_day.price_x)\n",
    "crypto_previous_day['today_date_crypto_percentage'] = crypto_previous_day.today_date_crypto / \\\n",
    "                                                            crypto_previous_day.price_x * 100\n",
    "d = {'today_date_crypto':today_date, 'today_date_crypto_percentage':today_date_percentage, 'price_x':yesterday_date_price_x, \\\n",
    "     'price_y':today_date_price_y}\n",
    "crypto_previous_day.rename(columns=d, inplace=True)"
   ]
  },
  {
   "cell_type": "code",
   "execution_count": 43,
   "id": "38e763a9",
   "metadata": {},
   "outputs": [],
   "source": [
    "import os.path\n",
    "\n",
    "directory = 'C:/Users/under/Desktop/crypto_excels/'\n",
    "file = 'crypto.xlsx'\n",
    "crypto_previous_day.to_excel(os.path.join(directory, file))"
   ]
  },
  {
   "cell_type": "code",
   "execution_count": null,
   "id": "ea54dd5e",
   "metadata": {},
   "outputs": [],
   "source": []
  }
 ],
 "metadata": {
  "kernelspec": {
   "display_name": "Python 3",
   "language": "python",
   "name": "python3"
  },
  "language_info": {
   "codemirror_mode": {
    "name": "ipython",
    "version": 3
   },
   "file_extension": ".py",
   "mimetype": "text/x-python",
   "name": "python",
   "nbconvert_exporter": "python",
   "pygments_lexer": "ipython3",
   "version": "3.8.8"
  }
 },
 "nbformat": 4,
 "nbformat_minor": 5
}
